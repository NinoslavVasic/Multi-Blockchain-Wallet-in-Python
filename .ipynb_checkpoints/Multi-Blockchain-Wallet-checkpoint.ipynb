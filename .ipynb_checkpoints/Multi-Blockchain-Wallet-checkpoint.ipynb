{
 "cells": [
  {
   "cell_type": "markdown",
   "metadata": {},
   "source": [
    "# Multi-Blockchain Wallet in Python - Creating and executing transactions"
   ]
  },
  {
   "cell_type": "markdown",
   "metadata": {},
   "source": [
    "# Importing libraries"
   ]
  },
  {
   "cell_type": "code",
   "execution_count": 1,
   "metadata": {},
   "outputs": [],
   "source": [
    "import subprocess \n",
    "import json\n",
    "import os\n",
    "from dotenv import load_dotenv\n",
    "from constants import *\n",
    "from bit import Key, PrivateKey, PrivateKeyTestnet\n",
    "from bit.network import NetworkAPI\n",
    "from bit import *\n",
    "from web3 import Web3\n",
    "from eth_account import Account "
   ]
  },
  {
   "cell_type": "markdown",
   "metadata": {},
   "source": [
    "# Web3 connection and loading mnemonic"
   ]
  },
  {
   "cell_type": "code",
   "execution_count": 2,
   "metadata": {},
   "outputs": [
    {
     "name": "stdout",
     "output_type": "stream",
     "text": [
      "twenty type guide fire unknown cube kidney holiday save uniform problem whip erase wink dwarf\n"
     ]
    }
   ],
   "source": [
    "\n",
    "# Nodes runing with POW\n",
    "w3 = Web3(Web3.HTTPProvider(\"http://127.0.0.1.8545\"))\n",
    "\n",
    "# Loading EV\n",
    "load_dotenv\n",
    "\n",
    "# Loading Mnemonic EV and (set this mnemonic as an environment variable, and include the one you generated as a fallback using)\n",
    "mnemonic = os.getenv('MNEMONIC', \"twenty type guide fire unknown cube kidney holiday save uniform problem whip erase wink dwarf\")\n",
    "print(mnemonic)"
   ]
  },
  {
   "cell_type": "markdown",
   "metadata": {},
   "source": [
    "# Creating functions to transact"
   ]
  },
  {
   "cell_type": "code",
   "execution_count": 3,
   "metadata": {},
   "outputs": [],
   "source": [
    "def derive_wallets(mnemonic, coin, numderive):\n",
    "    \"\"\"Use the subprocess library to call the php file script from Python\"\"\"\n",
    "    command = f'php ./hd-wallet-derive/hd-wallet-derive.php -g --mnemonic=\"{mnemonic}\" --numderive=\"{numderive}\" --coin=\"{coin}\" --format=json' \n",
    "    \n",
    "    p = subprocess.Popen(command, stdout=subprocess.PIPE, shell=True)\n",
    "    (output, err) = p.communicate()\n",
    "   \n",
    "    keys = json.loads(output)\n",
    "    return  keys\n",
    " \n"
   ]
  },
  {
   "cell_type": "code",
   "execution_count": 4,
   "metadata": {},
   "outputs": [],
   "source": [
    "#Setting dictionary of coins to be used in the wallet\n",
    "\n",
    "coins = {\"eth\", \"btc-test\", \"btc\"}\n",
    "numderive = 3"
   ]
  },
  {
   "cell_type": "code",
   "execution_count": 5,
   "metadata": {},
   "outputs": [],
   "source": [
    "keys = {}\n",
    "for coin in coins:\n",
    "    keys[coin]= derive_wallets(os.getenv('mnemonic'), coin, numderive=3)"
   ]
  },
  {
   "cell_type": "code",
   "execution_count": 6,
   "metadata": {},
   "outputs": [
    {
     "name": "stdout",
     "output_type": "stream",
     "text": [
      "\"0xd36d0f9ff2f6dc80208cd19e0b7d939f11bd1a63d10c38cdc1c58f4dbbc95edc\"\n",
      "\"cUMT7ptJgxrwSm9s5zSUCKUhSNVq1UC9v31vgoSusyukAciNMdDt\"\n"
     ]
    }
   ],
   "source": [
    "eth_PrivateKey = keys[\"eth\"][0]['privkey']\n",
    "btc_PrivateKey = keys['btc-test'][0]['privkey']\n",
    "\n",
    "\n",
    "print(json.dumps(eth_PrivateKey, indent=4, sort_keys=True))\n",
    "print(json.dumps(btc_PrivateKey, indent=4, sort_keys=True))"
   ]
  },
  {
   "cell_type": "code",
   "execution_count": 7,
   "metadata": {},
   "outputs": [
    {
     "name": "stdout",
     "output_type": "stream",
     "text": [
      "{\n",
      "    \"btc\": [\n",
      "        {\n",
      "            \"address\": \"1Hk26uv3aSo2WmKNPbeUGjNWPFDBLU2waW\",\n",
      "            \"index\": 0,\n",
      "            \"path\": \"m/44'/0'/0'/0/0\",\n",
      "            \"privkey\": \"KzQ3o74J1R3MFuzvRNQWjckRz3AYZHgggJRbs3P7TH1ZoXJqKety\",\n",
      "            \"pubkey\": \"0399c9a8f6933934bfe811fc524c0e8684f971819398a0581f20ddf6371db0bb18\",\n",
      "            \"pubkeyhash\": \"b7a4d19972d97725ebe1d980ac875f4b41322ec5\",\n",
      "            \"xprv\": \"xprvA4EtnVRNTKMCodewrh6ipRZg96w7tyJMntxXmtPitFkMn7Dwe6BRfeC2bnL8DRs96stL1Kn752eZJqfFX1Fs25uaRxnUSSShU91qzeg5gWK\",\n",
      "            \"xpub\": \"xpub6HEFBzxGHguW27jQxidjBZWQh8mcJS2DA7t8aGoLSbHLeuZ6BdVgDSWWT5kbpKZxGjjA8qDfgYCyKgBeau5Qp48c5KC9dTaYjWd3jLfF8MG\"\n",
      "        },\n",
      "        {\n",
      "            \"address\": \"16LsmsW5nshaMWz4XXE9qZjE1HHEEF61Ma\",\n",
      "            \"index\": 1,\n",
      "            \"path\": \"m/44'/0'/0'/0/1\",\n",
      "            \"privkey\": \"L3PRGxRUzyYGDEnWsdtyunpa5DCfYcgKfBSCCXGEHofUyxYj7zc6\",\n",
      "            \"pubkey\": \"03412c487c7a81706519d3236215f717b9134a39e0447e1a70de08fd65d83ab7e1\",\n",
      "            \"pubkeyhash\": \"3a9aea7796dbbce5a965d1fa4a7cf01cec335e7d\",\n",
      "            \"xprv\": \"xprvA4EtnVRNTKMCq217SWBa6NsqSVyLTWUXtfzvAS59aMAE7oDrH6mcU6PKk5eQp6CHmMWRdX1d3JWWhbsHgdCzXa2x1aq2Fma1CDXCrpCbKzi\",\n",
      "            \"xpub\": \"xpub6HEFBzxGHguW3W5aYXiaTWpZzXopryCPFtvWxpUm8ghCzbYzpe5s1thobMiag5eAqA5LguGdtcoLEsJjFfyBpTV1kzXMa7aBXzCHwFfrRWH\"\n",
      "        },\n",
      "        {\n",
      "            \"address\": \"1NdkcejAbVQToA8Zc9mhevqxTwYp1oreey\",\n",
      "            \"index\": 2,\n",
      "            \"path\": \"m/44'/0'/0'/0/2\",\n",
      "            \"privkey\": \"KwuLeHZMNR4D9D4EHBTT2v3B3imvZdcv3tK3WJ8Ju4cSBBuU9XvA\",\n",
      "            \"pubkey\": \"02ead7d72915461c3a194b3a48c5af29caf1a570057b635bba031541dedd498521\",\n",
      "            \"pubkeyhash\": \"ed4e0615dce5ef76eae4b45b1be3dcb898a85c0e\",\n",
      "            \"xprv\": \"xprvA4EtnVRNTKMCsTVZJBFzMJgp4eP9hSvkPVsr6JuNRVFiNAkxFw4YcbGDrQCWxhEHHmG8WUDrGoA4r1u8CoNH13CKh8QpiLHkP5cFJkBSCh9\",\n",
      "            \"xpub\": \"xpub6HEFBzxGHguW5wa2QCnziSdYcgDe6uebkioSthJyypnhEy66oUNoAPahhgrjQneoKs5dcLRXbUMQoZy9vbuo7wcZqbifZHoiSqSubuHtZrg\"\n",
      "        }\n",
      "    ],\n",
      "    \"btc-test\": [\n",
      "        {\n",
      "            \"address\": \"mkwqRYLAfeoMJnnb5A9WegujdggyBeEPGD\",\n",
      "            \"index\": 0,\n",
      "            \"path\": \"m/44'/1'/0'/0/0\",\n",
      "            \"privkey\": \"cUMT7ptJgxrwSm9s5zSUCKUhSNVq1UC9v31vgoSusyukAciNMdDt\",\n",
      "            \"pubkey\": \"02dcb7a11c7172966e58679c0cb207bfb95d119cc55f9fb318d0a522aaff5b9577\",\n",
      "            \"pubkeyhash\": \"3b8d4adb98c1922686a0b9b3f10ee0f1ef7a2eb8\",\n",
      "            \"xprv\": \"tprv8khhNkzGYHzyhzgCwAKEf4xVvkBbV2vWqBQpybEMhGHivv3WgwhnjdCguDwQ1ujRnN5JWEM8q8nE8zjHSrthSTvMcxb6V575s5x2zT3q1Pk\",\n",
      "            \"xpub\": \"tpubDHPjXB2WgfgebThzpoyq4UccVmhXeN7RQV1cG7Gf7Y67mQJHKLXNv7pZ5M2WvzFPpQyVgMB9znNEFMefiFvgn7r72wMott5xBJksEZUfWX5\"\n",
      "        },\n",
      "        {\n",
      "            \"address\": \"mmUQuAvBYqVpKzayhaYvnJe9VuwkRdSWPu\",\n",
      "            \"index\": 1,\n",
      "            \"path\": \"m/44'/1'/0'/0/1\",\n",
      "            \"privkey\": \"cVj1Q51vqgtBEYokpcb6RtjMwVbAsaCmrQRyjMTHFm5rGoziYe44\",\n",
      "            \"pubkey\": \"024fca815b769b3e6920eb31081de336536e0a0dcba4955b6d7773b8acc205e0b4\",\n",
      "            \"pubkeyhash\": \"4155b748ac4f668e327a8b7a7c928241ba09eb85\",\n",
      "            \"xprv\": \"tprv8khhNkzGYHzyj6e6K8iKuPTCw6YLNRA3tRKCphDT4Yis5AKoPbwFLH7zqay3WqqcsnHCwJZedosPPAXcrHehSKV7MBy57KVPQxyQ3tHyq4g\",\n",
      "            \"xpub\": \"tpubDHPjXB2WgfgecZftCnNvJo7KW84GXkLxTiuz7DFkUpXFueaa1zkqWmjs1gg5EbtryQSJ81NQyoDwvXGWvis4AtWXeZXh9juHNWhUCGZwfRJ\"\n",
      "        },\n",
      "        {\n",
      "            \"address\": \"mxYAxY575hg56rGtU3n6754GfqCKRxzvep\",\n",
      "            \"index\": 2,\n",
      "            \"path\": \"m/44'/1'/0'/0/2\",\n",
      "            \"privkey\": \"cMzhL3wx92ETkcCDyTt8ouz8pXQnp7RBpE3pHu1637Sn16qVW9vo\",\n",
      "            \"pubkey\": \"03bdfba2cebb0d9fa135451ec068d05e6ddf07d8c79c13afa46b4658b3942cf087\",\n",
      "            \"pubkeyhash\": \"bab5200f7b800fc1fda9a7449df8b99064501931\",\n",
      "            \"xprv\": \"tprv8khhNkzGYHzymedp2vc5YrDY9Wo8pZHMTSMLVs5QX2JRV3iaHkTveCATn7hwZehVuu3HV986zzRHULnTF3dUB4gior6YYpv39vDdGmZtvo5\",\n",
      "            \"xpub\": \"tpubDHPjXB2Wgfgef7fbvaGfxFseiYK4ytUG2jx7nP7hwJ6pKXyLv9HWpgnKxHwpFx9yRGdHH7nRWwNVZJ39Neu7znX2LCPrWVgVDEN53WphdpV\"\n",
      "        }\n",
      "    ],\n",
      "    \"eth\": [\n",
      "        {\n",
      "            \"address\": \"0x02194a55DDA1B029F70220D53f099F38c629ab36\",\n",
      "            \"index\": 0,\n",
      "            \"path\": \"m/44'/60'/0'/0/0\",\n",
      "            \"privkey\": \"0xd36d0f9ff2f6dc80208cd19e0b7d939f11bd1a63d10c38cdc1c58f4dbbc95edc\",\n",
      "            \"pubkey\": \"03b21e2e1bc0b74c298d113c5c305c80cc76e67c4ff29e9b31028ea17328f8bba8\",\n",
      "            \"pubkeyhash\": \"a85e006b705f905c3e0e82485a33bf5bae8da52e\",\n",
      "            \"xprv\": \"xprvA2UAbkzcn2ntbeUWWeryfF3uDhgNm4dauGWnvnDix6CsvCzQuvLXjSRM7JTtTTWK9sX95nFVJwYhVGxXqPToYqhz27ChLeVmsCQQXUKHxdM\",\n",
      "            \"xpub\": \"xpub6FTX1GXWcQMBp8YycgPz2NzdmjWsAXMSGVSPjAdLWRjro1KZTTenHEjpxbBjGGK7wisPZe4htBommydMu8aPzi3Y94xHEdcN3ANiCP23RiY\"\n",
      "        },\n",
      "        {\n",
      "            \"address\": \"0x3dFb64A5AdAe2aDece2E252FE5E889d61Ef75122\",\n",
      "            \"index\": 1,\n",
      "            \"path\": \"m/44'/60'/0'/0/1\",\n",
      "            \"privkey\": \"0x81b180541f1ae73a48976095a58a342611fcedac9c00758510c0f3c0c63e5710\",\n",
      "            \"pubkey\": \"03b64da52e7b23d110002752118ecc97052e6637d916794bef1eaac7bba0a54d3b\",\n",
      "            \"pubkeyhash\": \"5d352e57cab65ca61793104f70e4b0f4543527aa\",\n",
      "            \"xprv\": \"xprvA2UAbkzcn2ntezNrVAWRNF7yPRSuWDGEu7CdrwoNhYEjuJdeqhFC9zpZ9Uomp4Tuzf47cQ661EzPLErPP9nSvAHoboLqYTTpNd1xfeFGuUP\",\n",
      "            \"xpub\": \"xpub6FTX1GXWcQMBsUTKbC3RjP4hwTHPufz6GL8EfLCzFsmin6xoPEZSho92znBTHFATi3RFHmhJLpwwR7P9KXcN9f4jAs4YUHRkkyg7spW5kZe\"\n",
      "        },\n",
      "        {\n",
      "            \"address\": \"0xdeA9cE1d814f6dAaEe900D864B7f1974Ab2f0A44\",\n",
      "            \"index\": 2,\n",
      "            \"path\": \"m/44'/60'/0'/0/2\",\n",
      "            \"privkey\": \"0x815b3bc011096f513a633ed35581e057423680405381db490576d48b95e1ab15\",\n",
      "            \"pubkey\": \"03e58f0070091a989dbede3de95458ddd960381f1846f4414dcc896edc04907735\",\n",
      "            \"pubkeyhash\": \"f1ba997dd9013d7140ac9367cf66ed197c1413b6\",\n",
      "            \"xprv\": \"xprvA2UAbkzcn2ntgZeXYbMHsrr7QnjdtoitxZDqhxkueuRiE6Eb1xqHUjriskG2mrFftCL29AUAj85B22PtvpSqspSWzLp9tzAQ9CsVKiW84m6\",\n",
      "            \"xpub\": \"xpub6FTX1GXWcQMBu3izectJEznqxpa8JGSkKn9SWMAXDExh6tZjZW9Y2YBCj3zfvXnQGoSrYoft3EGeXcURDCp9Mm9Rg4S3hug3GW2UeTFcFsQ\"\n",
      "        }\n",
      "    ]\n",
      "}\n"
     ]
    }
   ],
   "source": [
    "print(json.dumps(keys, indent=4, sort_keys=True))"
   ]
  },
  {
   "cell_type": "code",
   "execution_count": 8,
   "metadata": {},
   "outputs": [],
   "source": [
    "def priv_key_to_account(coin, priv_key):\n",
    "    \"\"\"Convert the privkey string in a child key to an account object that bit or web3.py can use to transact\"\"\"\n",
    "    if coin == ETH:\n",
    "        return Account.privateKeyToAccount(priv_key)\n",
    "    if coin == BTCTEST:\n",
    "        return PrivateKeyTestnet(priv_key)\n",
    "    \n",
    "eth_acc = priv_key_to_account(ETH,eth_PrivateKey)\n",
    "btc_acc = priv_key_to_account(BTCTEST,btc_PrivateKey)"
   ]
  },
  {
   "cell_type": "code",
   "execution_count": 9,
   "metadata": {},
   "outputs": [
    {
     "name": "stdout",
     "output_type": "stream",
     "text": [
      "<eth_account.signers.local.LocalAccount object at 0x0000027899C50A48>\n",
      "<PrivateKeyTestnet: mkwqRYLAfeoMJnnb5A9WegujdggyBeEPGD>\n"
     ]
    }
   ],
   "source": [
    "print(eth_acc)\n",
    "print(btc_acc)"
   ]
  },
  {
   "cell_type": "code",
   "execution_count": 84,
   "metadata": {},
   "outputs": [],
   "source": [
    "def create_trx(coin, account, recipient, amount):\n",
    "    \"\"\"create the raw, unsigned transaction that contains all metadata needed to transact\"\"\"\n",
    "    global trx_data\n",
    "    if coin ==ETH:\n",
    "        gasEstimate = w3.eth.estimateGas(\n",
    "            {\"from\": account.address, \"to\": recipient, \"value\": amount}\n",
    "        )\n",
    "        trx_data = {\n",
    "            \"to\": recipient,\n",
    "            \"from\": account.address,\n",
    "            \"value\": amount,\n",
    "            \"gasPrice\": w3.eth.gasPrice,\n",
    "            \"gas\": gasEstimate,\n",
    "            \"nonce\": w3.eth.getTransactionCount(account.address)\n",
    "        }\n",
    "        return trx_data\n",
    "\n",
    "    if coin == BTCTEST:\n",
    "        return PrivateKeyTestnet.prepare_transaction(account.address, [(recipient, amount, BTC)]) "
   ]
  },
  {
   "cell_type": "code",
   "execution_count": 100,
   "metadata": {},
   "outputs": [],
   "source": [
    "def send_trx(coin, account, recipient, amount):\n",
    "    \"\"\"call create_trx, sign the transaction, then send it to the designated network\"\"\"\n",
    "    if coin == \"eth\": \n",
    "        trx_eth = create_trx(coin,account, recipient, amount)\n",
    "        sign = account.signTransaction(trx_eth)\n",
    "        result = w3.eth.sendRawTransaction(sign.rawTransaction)\n",
    "        print(result.hex())\n",
    "        return result.hex()\n",
    "    else:\n",
    "        trx_btctest= create_trx(coin,account,recipient,amount)\n",
    "        sign_trx_btctest = account.sign_transaction(trx_btctest)\n",
    "        from bit.network import NetworkAPI\n",
    "        NetworkAPI.broadcast_tx_testnet(sign_trx_btctest)       \n",
    "        return sign_trx_btctest\n",
    "       "
   ]
  },
  {
   "cell_type": "markdown",
   "metadata": {},
   "source": [
    "# Calling the functions to create, sign and execute transactions (BTCTest and ETH)"
   ]
  },
  {
   "cell_type": "markdown",
   "metadata": {},
   "source": [
    "# BTC test transactions"
   ]
  },
  {
   "cell_type": "code",
   "execution_count": 12,
   "metadata": {},
   "outputs": [
    {
     "data": {
      "text/plain": [
       "'{\"unspents\":[{\"amount\":30000000,\"confirmations\":1,\"script\":\"76a9143b8d4adb98c1922686a0b9b3f10ee0f1ef7a2eb888ac\",\"txid\":\"eb86249055b04859c40b9b70fafeb41e0eda88258ff099c944704ce27979421e\",\"txindex\":0,\"type\":\"p2pkh\",\"vsize\":148,\"segwit\":false},{\"amount\":67112,\"confirmations\":106,\"script\":\"76a9143b8d4adb98c1922686a0b9b3f10ee0f1ef7a2eb888ac\",\"txid\":\"6f9a79192486825313c741253bfa15669cfb540be47085c89cd3fb43538d98a9\",\"txindex\":1,\"type\":\"p2pkh\",\"vsize\":148,\"segwit\":false}],\"outputs\":[[\"miZgMxdGzSxCTpWazfD2KqhewoUvcQ6CC1\",10000000],[\"mkwqRYLAfeoMJnnb5A9WegujdggyBeEPGD\",20025972]]}'"
      ]
     },
     "execution_count": 12,
     "metadata": {},
     "output_type": "execute_result"
    }
   ],
   "source": [
    "# create BTC transaction\n",
    "create_trx(BTCTEST,btc_acc,\"miZgMxdGzSxCTpWazfD2KqhewoUvcQ6CC1\", 0.1)"
   ]
  },
  {
   "cell_type": "code",
   "execution_count": 13,
   "metadata": {},
   "outputs": [
    {
     "data": {
      "text/plain": [
       "'01000000021e427979e24c7044c999f08f2588da0e1eb4fefa709b0bc45948b055902486eb000000006b483045022100a38e4babdab4c80bcd1f4f0762b10892f8040a7c4b4d33c53a03f5eb9edfd45102204d11e15d372166fea7acc4971ac8f95a061efeaa9f07e416ce47541a928792bb012102dcb7a11c7172966e58679c0cb207bfb95d119cc55f9fb318d0a522aaff5b9577ffffffffa9988d5343fbd39cc88570e40b54fb9c6615fa3b2541c7135382862419799a6f010000006a4730440220152a9f108ffbca7bccfc385804bb6cdaaf29b55274eb53e7beeedcc29e5d284102202a2093889dd8e48cf8eb7c8954e9bc53ceadad444b38e33778082e80baf2704b012102dcb7a11c7172966e58679c0cb207bfb95d119cc55f9fb318d0a522aaff5b9577ffffffff0280969800000000001976a914216c53486c93fa265d93a5ea85b6d3499b136d9188ac74923101000000001976a9143b8d4adb98c1922686a0b9b3f10ee0f1ef7a2eb888ac00000000'"
      ]
     },
     "execution_count": 13,
     "metadata": {},
     "output_type": "execute_result"
    }
   ],
   "source": [
    "#send BTC transaction\n",
    "send_trx(BTCTEST,btc_acc,'miZgMxdGzSxCTpWazfD2KqhewoUvcQ6CC1',0.1)"
   ]
  },
  {
   "cell_type": "markdown",
   "metadata": {},
   "source": [
    "# ETH transactions (Due to a bug in web3.py, I had send several transactions with MyCrypto from my local private mining blockchain, since the w3.eth.generateGasPrice() function does not work with an empty chain. The node keystore file is used."
   ]
  },
  {
   "cell_type": "code",
   "execution_count": 14,
   "metadata": {},
   "outputs": [],
   "source": [
    "from web3.middleware import geth_poa_middleware\n",
    "\n",
    "w3.middleware_onion.inject(geth_poa_middleware, layer=0)"
   ]
  },
  {
   "cell_type": "code",
   "execution_count": 19,
   "metadata": {},
   "outputs": [],
   "source": [
    "from web3 import Web3, HTTPProvider"
   ]
  },
  {
   "cell_type": "code",
   "execution_count": 108,
   "metadata": {},
   "outputs": [],
   "source": [
    "#connecting to HTTP with address pk\n",
    "w3 = Web3(Web3.HTTPProvider(\"http://127.0.0.1:8545/0x5619d0cce54919511eb9f3b678de07bd346044acee0bdd6cdf4497ba45e03f81\"))\n"
   ]
  },
  {
   "cell_type": "code",
   "execution_count": 109,
   "metadata": {},
   "outputs": [
    {
     "data": {
      "text/plain": [
       "1483"
      ]
     },
     "execution_count": 109,
     "metadata": {},
     "output_type": "execute_result"
    }
   ],
   "source": [
    "#checking the Block Number\n",
    "w3.eth.blockNumber"
   ]
  },
  {
   "cell_type": "code",
   "execution_count": 71,
   "metadata": {},
   "outputs": [
    {
     "data": {
      "text/plain": [
       "True"
      ]
     },
     "execution_count": 71,
     "metadata": {},
     "output_type": "execute_result"
    }
   ],
   "source": [
    "# double check if  I am connected to blockchain. \n",
    "w3.isConnected()"
   ]
  },
  {
   "cell_type": "markdown",
   "metadata": {},
   "source": [
    "# Checking the balance of the account with local mining blockchain"
   ]
  },
  {
   "cell_type": "code",
   "execution_count": 110,
   "metadata": {},
   "outputs": [
    {
     "data": {
      "text/plain": [
       "2249999957999999998000"
      ]
     },
     "execution_count": 110,
     "metadata": {},
     "output_type": "execute_result"
    }
   ],
   "source": [
    "w3.eth.getBalance(\"0x02194a55DDA1B029F70220D53f099F38c629ab36\")"
   ]
  },
  {
   "cell_type": "code",
   "execution_count": 102,
   "metadata": {},
   "outputs": [
    {
     "data": {
      "text/plain": [
       "{'to': '0xba51af165c60A32B3d23Df9B332b4A86cED4A1B9',\n",
       " 'from': '0x02194a55DDA1B029F70220D53f099F38c629ab36',\n",
       " 'value': 1000,\n",
       " 'gasPrice': 1000000000,\n",
       " 'gas': 21000,\n",
       " 'nonce': 2}"
      ]
     },
     "execution_count": 102,
     "metadata": {},
     "output_type": "execute_result"
    }
   ],
   "source": [
    "create_trx(ETH,eth_acc,\"0xba51af165c60A32B3d23Df9B332b4A86cED4A1B9\", 1000)"
   ]
  },
  {
   "cell_type": "code",
   "execution_count": 101,
   "metadata": {},
   "outputs": [
    {
     "name": "stdout",
     "output_type": "stream",
     "text": [
      "0x3bdaea43a14c6d661f62bf938a8ca4913e6c7f7f38510b7223876ee41e167ec7\n"
     ]
    },
    {
     "data": {
      "text/plain": [
       "'0x3bdaea43a14c6d661f62bf938a8ca4913e6c7f7f38510b7223876ee41e167ec7'"
      ]
     },
     "execution_count": 101,
     "metadata": {},
     "output_type": "execute_result"
    }
   ],
   "source": [
    "send_trx(ETH, eth_acc,\"0xba51af165c60A32B3d23Df9B332b4A86cED4A1B9\", 1000)"
   ]
  },
  {
   "cell_type": "markdown",
   "metadata": {},
   "source": [
    "# Confirmation that transactions are executed by checking balance of the account where the transactions were sent"
   ]
  },
  {
   "cell_type": "code",
   "execution_count": 104,
   "metadata": {},
   "outputs": [
    {
     "data": {
      "text/plain": [
       "516000042000000002000"
      ]
     },
     "execution_count": 104,
     "metadata": {},
     "output_type": "execute_result"
    }
   ],
   "source": [
    "w3.eth.getBalance(\"0xba51af165c60A32B3d23Df9B332b4A86cED4A1B9\")"
   ]
  }
 ],
 "metadata": {
  "kernelspec": {
   "display_name": "Python 3",
   "language": "python",
   "name": "python3"
  },
  "language_info": {
   "codemirror_mode": {
    "name": "ipython",
    "version": 3
   },
   "file_extension": ".py",
   "mimetype": "text/x-python",
   "name": "python",
   "nbconvert_exporter": "python",
   "pygments_lexer": "ipython3",
   "version": "3.7.6"
  }
 },
 "nbformat": 4,
 "nbformat_minor": 4
}
